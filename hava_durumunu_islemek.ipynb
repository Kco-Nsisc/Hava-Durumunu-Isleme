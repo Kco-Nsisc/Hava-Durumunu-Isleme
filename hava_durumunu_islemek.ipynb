{
 "cells": [
  {
   "cell_type": "code",
   "execution_count": null,
   "metadata": {},
   "outputs": [],
   "source": [
    "from selenium import webdriver \n",
    "import time as tm\n",
    "import numpy as np\n",
    "import pandas as pd\n",
    "import matplotlib.pyplot as plt\n",
    "%matplotlib inline\n",
    "browser = webdriver.Firefox()\n",
    "gun5liste = []\n",
    "gun4liste = []\n",
    "gun3liste = []\n",
    "gun2liste = []\n",
    "gun1liste = []\n",
    "gun1 = \"hebelehübele\"\n",
    "gun2 = \"hebele\"\n",
    "gun3 = \"hebelehübelele\"\n",
    "gun4 = \"hebelehübelelele\"\n",
    "gun5 = \"hebelehübe\"\n",
    "class hava_Durumu:\n",
    "    def __init__(self,sehir):\n",
    "        self.url = \"https://www.mgm.gov.tr/?il=\"\n",
    "        self.browser = webdriver.Firefox()\n",
    "        self.sehir = sehir\n",
    "    def sehir_hava_durumu5(self):\n",
    "        self.browser.get(self.url + self.sehir)\n",
    "        tm.sleep(5)\n",
    "        global gun5\n",
    "        gun5 = self.browser.find_element_by_xpath(\"/html/body/section[1]/div/div[2]/div[4]/div/div[1]/div/div[1]/div[1]\").text\n",
    "        derece_az5 = self.browser.find_element_by_xpath(\"/html/body/section[1]/div/div[2]/div[4]/div/div[1]/div/div[1]/div[4]/span[1]\").text\n",
    "        intderece_az5 = int(derece_az5)\n",
    "        derece_cok5 = self.browser.find_element_by_xpath(\"/html/body/section[1]/div/div[2]/div[4]/div/div[1]/div/div[1]/div[5]/span[1]\").text\n",
    "        intderece_cok5 = int(derece_cok5)\n",
    "        global gun5liste\n",
    "        gun5liste.append(gun5)\n",
    "        gun5liste.append(intderece_az5)\n",
    "        gun5liste.append(intderece_cok5)\n",
    "        def sehir_hava_durumu4():\n",
    "            global gun4\n",
    "            gun4 = self.browser.find_element_by_xpath(\"/html/body/section[1]/div/div[2]/div[4]/div/div[2]/div/div[1]/div[1]\").text\n",
    "            derece_az4 = self.browser.find_element_by_xpath(\"/html/body/section[1]/div/div[2]/div[4]/div/div[2]/div/div[1]/div[4]/span[1]\").text\n",
    "            intderece_az4 = int(derece_az4)\n",
    "            derece_cok4 = self.browser.find_element_by_xpath(\"/html/body/section[1]/div/div[2]/div[4]/div/div[2]/div/div[1]/div[5]/span[1]\").text\n",
    "            intderece_cok4 = int(derece_cok4)\n",
    "            global gun4liste\n",
    "            gun4liste.append(gun4)\n",
    "            gun4liste.append(intderece_az4)\n",
    "            gun4liste.append(intderece_cok4)\n",
    "            def sehir_hava_durumu3():\n",
    "                global gun3\n",
    "                gun3 = self.browser.find_element_by_xpath(\"/html/body/section[1]/div/div[2]/div[4]/div/div[3]/div/div[1]/div[1]\").text\n",
    "                derece_az3 = self.browser.find_element_by_xpath(\"/html/body/section[1]/div/div[2]/div[4]/div/div[3]/div/div[1]/div[4]/span[1]\").text\n",
    "                intderece_az3 = int(derece_az3)\n",
    "                derece_cok3 = self.browser.find_element_by_xpath(\"/html/body/section[1]/div/div[2]/div[4]/div/div[3]/div/div[1]/div[5]/span[1]\").text\n",
    "                intderece_cok3 = int(derece_cok3)\n",
    "                global gun3liste\n",
    "                gun3liste.append(gun3)\n",
    "                gun3liste.append(intderece_az3)\n",
    "                gun3liste.append(intderece_cok3)\n",
    "                def sehir_hava_durumu2():\n",
    "                    global gun2\n",
    "                    gun2 = self.browser.find_element_by_xpath(\"/html/body/section[1]/div/div[2]/div[4]/div/div[4]/div/div[1]/div[1]\").text\n",
    "                    derece_az2 = self.browser.find_element_by_xpath(\"/html/body/section[1]/div/div[2]/div[4]/div/div[4]/div/div[1]/div[4]/span[1]\").text\n",
    "                    intderece_az2 = int(derece_az2)\n",
    "                    derece_cok2 = self.browser.find_element_by_xpath(\"/html/body/section[1]/div/div[2]/div[4]/div/div[4]/div/div[1]/div[5]/span[1]\").text\n",
    "                    intderece_cok2 = int(derece_cok2)\n",
    "                    global gun2liste\n",
    "                    gun2liste.append(gun2)\n",
    "                    gun2liste.append(intderece_az2)\n",
    "                    gun2liste.append(intderece_cok2)\n",
    "                    def sehir_hava_durumu1():\n",
    "                        global gun1\n",
    "                        gun1 = self.browser.find_element_by_xpath(\"/html/body/section[1]/div/div[2]/div[4]/div/div[5]/div/div[1]/div[1]\").text\n",
    "                        derece_az1 = self.browser.find_element_by_xpath(\"/html/body/section[1]/div/div[2]/div[4]/div/div[5]/div/div[1]/div[4]/span[1]\").text\n",
    "                        intderece_az1 = int(derece_az1)\n",
    "                        derece_cok1 = self.browser.find_element_by_xpath(\"/html/body/section[1]/div/div[2]/div[4]/div/div[5]/div/div[1]/div[5]/span[1]\").text\n",
    "                        intderece_cok1 = int(derece_cok1)\n",
    "                        global gun1liste\n",
    "                        gun1liste.append(gun1)\n",
    "                        gun1liste.append(intderece_az1)\n",
    "                        gun1liste.append(intderece_cok1)\n",
    "                        self.browser.close()\n",
    "                        print(\"verileri aldım\")\n",
    "                        tm.sleep(0.5)\n",
    "                        print(gun1liste)\n",
    "                        tm.sleep(0.5)\n",
    "                        print(gun2liste)\n",
    "                        tm.sleep(0.5)\n",
    "                        print(gun3liste)\n",
    "                        tm.sleep(0.5)\n",
    "                        print(gun4liste)\n",
    "                        tm.sleep(0.5)\n",
    "                        print(gun5liste)\n",
    "                    sehir_hava_durumu1()\n",
    "                sehir_hava_durumu2()\n",
    "            sehir_hava_durumu3()\n",
    "        sehir_hava_durumu4()\n",
    "hava = hava_Durumu(\"Kütahya\") #buraya stediğiniz şehiri yazabilirsiniz\n",
    "hava.sehir_hava_durumu5()"
   ]
  },
  {
   "cell_type": "code",
   "execution_count": null,
   "metadata": {},
   "outputs": [],
   "source": [
    "gun1numpydizi = np.array(gun1liste)"
   ]
  },
  {
   "cell_type": "code",
   "execution_count": null,
   "metadata": {},
   "outputs": [],
   "source": [
    "gun2numpydizi = np.array(gun2liste)"
   ]
  },
  {
   "cell_type": "code",
   "execution_count": null,
   "metadata": {},
   "outputs": [],
   "source": [
    "gun3numpydizi = np.array(gun3liste)"
   ]
  },
  {
   "cell_type": "code",
   "execution_count": null,
   "metadata": {},
   "outputs": [],
   "source": [
    "gun4numpydizi = np.array(gun4liste) "
   ]
  },
  {
   "cell_type": "code",
   "execution_count": null,
   "metadata": {},
   "outputs": [],
   "source": [
    "gun5numpydizi = np.array(gun5liste)"
   ]
  },
  {
   "cell_type": "code",
   "execution_count": null,
   "metadata": {},
   "outputs": [],
   "source": [
    "gun1listesayi = gun1liste[1:3]"
   ]
  },
  {
   "cell_type": "code",
   "execution_count": null,
   "metadata": {},
   "outputs": [],
   "source": [
    "gun2listesayi = gun2liste[1:3]"
   ]
  },
  {
   "cell_type": "code",
   "execution_count": null,
   "metadata": {},
   "outputs": [],
   "source": [
    "gun3listesayi = gun3liste[1:3]"
   ]
  },
  {
   "cell_type": "code",
   "execution_count": null,
   "metadata": {},
   "outputs": [],
   "source": [
    "gun4listesayi = gun4liste[1:3]"
   ]
  },
  {
   "cell_type": "code",
   "execution_count": null,
   "metadata": {},
   "outputs": [],
   "source": [
    "gun5listesayi = gun5liste[1:3]"
   ]
  },
  {
   "cell_type": "code",
   "execution_count": null,
   "metadata": {},
   "outputs": [],
   "source": [
    "butunListe = []"
   ]
  },
  {
   "cell_type": "code",
   "execution_count": null,
   "metadata": {},
   "outputs": [],
   "source": [
    "butunListe.append(gun1listesayi)"
   ]
  },
  {
   "cell_type": "code",
   "execution_count": null,
   "metadata": {},
   "outputs": [],
   "source": [
    "butunListe.append(gun2listesayi)"
   ]
  },
  {
   "cell_type": "code",
   "execution_count": null,
   "metadata": {},
   "outputs": [],
   "source": [
    "butunListe.append(gun3listesayi)"
   ]
  },
  {
   "cell_type": "code",
   "execution_count": null,
   "metadata": {},
   "outputs": [],
   "source": [
    "butunListe.append(gun4listesayi)"
   ]
  },
  {
   "cell_type": "code",
   "execution_count": null,
   "metadata": {},
   "outputs": [],
   "source": [
    "butunListe.append(gun5listesayi)"
   ]
  },
  {
   "cell_type": "code",
   "execution_count": null,
   "metadata": {},
   "outputs": [],
   "source": [
    "butunListe"
   ]
  },
  {
   "cell_type": "code",
   "execution_count": null,
   "metadata": {},
   "outputs": [],
   "source": [
    "butunDataFrame = pd.DataFrame(butunListe, index = [gun1,gun2,gun3,gun4,gun5],columns = [\"En düşük değerler\",\"En yüksek değerler\"])"
   ]
  },
  {
   "cell_type": "code",
   "execution_count": null,
   "metadata": {},
   "outputs": [],
   "source": [
    "butunDataFrame"
   ]
  },
  {
   "cell_type": "code",
   "execution_count": null,
   "metadata": {},
   "outputs": [],
   "source": [
    "butunDataFrame.describe()"
   ]
  },
  {
   "cell_type": "code",
   "execution_count": null,
   "metadata": {},
   "outputs": [],
   "source": [
    "butunDataFrame.to_excel(\"Hava_durumu.xlsx\")"
   ]
  },
  {
   "cell_type": "code",
   "execution_count": null,
   "metadata": {},
   "outputs": [],
   "source": [
    "gun1DataFrame = pd.DataFrame(gun1liste)"
   ]
  },
  {
   "cell_type": "code",
   "execution_count": null,
   "metadata": {},
   "outputs": [],
   "source": [
    "gun2DataFrame = pd.DataFrame(gun2liste)"
   ]
  },
  {
   "cell_type": "code",
   "execution_count": null,
   "metadata": {},
   "outputs": [],
   "source": [
    "gun3DataFrame = pd.DataFrame(gun3liste)"
   ]
  },
  {
   "cell_type": "code",
   "execution_count": null,
   "metadata": {},
   "outputs": [],
   "source": [
    "gun4DataFrame = pd.DataFrame(gun4liste)"
   ]
  },
  {
   "cell_type": "code",
   "execution_count": null,
   "metadata": {},
   "outputs": [],
   "source": [
    "gun5DataFrame = pd.DataFrame(gun5liste)"
   ]
  },
  {
   "cell_type": "code",
   "execution_count": null,
   "metadata": {},
   "outputs": [],
   "source": [
    "gun1listesayiaz = gun1liste[1]"
   ]
  },
  {
   "cell_type": "code",
   "execution_count": null,
   "metadata": {},
   "outputs": [],
   "source": [
    "gun2listesayiaz = gun2liste[1]"
   ]
  },
  {
   "cell_type": "code",
   "execution_count": null,
   "metadata": {},
   "outputs": [],
   "source": [
    "gun3listesayiaz = gun3liste[1]"
   ]
  },
  {
   "cell_type": "code",
   "execution_count": null,
   "metadata": {},
   "outputs": [],
   "source": [
    "gun4listesayiaz = gun4liste[1]"
   ]
  },
  {
   "cell_type": "code",
   "execution_count": null,
   "metadata": {},
   "outputs": [],
   "source": [
    "gun5listesayiaz = gun5liste[1]"
   ]
  },
  {
   "cell_type": "code",
   "execution_count": null,
   "metadata": {},
   "outputs": [],
   "source": [
    "butunListeaz = []"
   ]
  },
  {
   "cell_type": "code",
   "execution_count": null,
   "metadata": {},
   "outputs": [],
   "source": [
    "butunListeaz.append(gun1listesayiaz)"
   ]
  },
  {
   "cell_type": "code",
   "execution_count": null,
   "metadata": {},
   "outputs": [],
   "source": [
    "butunListeaz.append(gun2listesayiaz)"
   ]
  },
  {
   "cell_type": "code",
   "execution_count": null,
   "metadata": {},
   "outputs": [],
   "source": [
    "butunListeaz.append(gun3listesayiaz)"
   ]
  },
  {
   "cell_type": "code",
   "execution_count": null,
   "metadata": {},
   "outputs": [],
   "source": [
    "butunListeaz.append(gun4listesayiaz)"
   ]
  },
  {
   "cell_type": "code",
   "execution_count": null,
   "metadata": {},
   "outputs": [],
   "source": [
    "butunListeaz.append(gun5listesayiaz)"
   ]
  },
  {
   "cell_type": "code",
   "execution_count": null,
   "metadata": {},
   "outputs": [],
   "source": [
    "butunListeazNumpy = np.array(butunListeaz)"
   ]
  },
  {
   "cell_type": "code",
   "execution_count": null,
   "metadata": {},
   "outputs": [],
   "source": [
    "gun1listesayicok = gun1liste[2]"
   ]
  },
  {
   "cell_type": "code",
   "execution_count": null,
   "metadata": {},
   "outputs": [],
   "source": [
    "gun2listesayicok = gun2liste[2]"
   ]
  },
  {
   "cell_type": "code",
   "execution_count": null,
   "metadata": {},
   "outputs": [],
   "source": [
    "gun3listesayicok = gun3liste[2]"
   ]
  },
  {
   "cell_type": "code",
   "execution_count": null,
   "metadata": {},
   "outputs": [],
   "source": [
    "gun4listesayicok = gun4liste[2]"
   ]
  },
  {
   "cell_type": "code",
   "execution_count": null,
   "metadata": {},
   "outputs": [],
   "source": [
    "gun5listesayicok = gun5liste[2]"
   ]
  },
  {
   "cell_type": "code",
   "execution_count": null,
   "metadata": {},
   "outputs": [],
   "source": [
    "butunListecok = []"
   ]
  },
  {
   "cell_type": "code",
   "execution_count": null,
   "metadata": {},
   "outputs": [],
   "source": [
    "butunListecok.append(gun1listesayicok)"
   ]
  },
  {
   "cell_type": "code",
   "execution_count": null,
   "metadata": {},
   "outputs": [],
   "source": [
    "butunListecok.append(gun2listesayicok)"
   ]
  },
  {
   "cell_type": "code",
   "execution_count": null,
   "metadata": {},
   "outputs": [],
   "source": [
    "butunListecok.append(gun3listesayicok)"
   ]
  },
  {
   "cell_type": "code",
   "execution_count": null,
   "metadata": {},
   "outputs": [],
   "source": [
    "butunListecok.append(gun4listesayicok)"
   ]
  },
  {
   "cell_type": "code",
   "execution_count": null,
   "metadata": {},
   "outputs": [],
   "source": [
    "butunListecok.append(gun5listesayicok)"
   ]
  },
  {
   "cell_type": "code",
   "execution_count": null,
   "metadata": {},
   "outputs": [],
   "source": [
    "butunListecokNumpy = np.array(butunListecok)"
   ]
  },
  {
   "cell_type": "code",
   "execution_count": null,
   "metadata": {},
   "outputs": [],
   "source": [
    "yeniFigur = plt.figure() \n",
    " \n",
    "yeniEksen = yeniFigur.add_axes([0.1,0.1,0.9,0.9])\n",
    "\n",
    "yeniEksen.plot(butunListecokNumpy,label = \"En yüksek\")\n",
    "yeniEksen.plot(butunListeazNumpy, label = \"En düşük\")\n",
    "\n",
    "\n",
    "yeniEksen.legend(loc = 0)"
   ]
  }
 ],
 "metadata": {
  "kernelspec": {
   "display_name": "Python 3",
   "language": "python",
   "name": "python3"
  },
  "language_info": {
   "codemirror_mode": {
    "name": "ipython",
    "version": 3
   },
   "file_extension": ".py",
   "mimetype": "text/x-python",
   "name": "python",
   "nbconvert_exporter": "python",
   "pygments_lexer": "ipython3",
   "version": "3.8.5"
  }
 },
 "nbformat": 4,
 "nbformat_minor": 4
}
